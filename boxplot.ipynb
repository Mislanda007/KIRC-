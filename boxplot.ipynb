{
 "cells": [
  {
   "cell_type": "code",
   "execution_count": 1,
   "id": "d0f63023",
   "metadata": {},
   "outputs": [],
   "source": [
    "import matplotlib.pyplot as plt\n",
    "import pandas as pd\n",
    "\n",
    "file=pd.read_csv(r'C:\\Users\\LM700\\Desktop\\expe.csv')"
   ]
  },
  {
   "cell_type": "code",
   "execution_count": 2,
   "id": "8e2fa6fa",
   "metadata": {},
   "outputs": [
    {
     "data": {
      "text/html": [
       "<div>\n",
       "<style scoped>\n",
       "    .dataframe tbody tr th:only-of-type {\n",
       "        vertical-align: middle;\n",
       "    }\n",
       "\n",
       "    .dataframe tbody tr th {\n",
       "        vertical-align: top;\n",
       "    }\n",
       "\n",
       "    .dataframe thead th {\n",
       "        text-align: right;\n",
       "    }\n",
       "</style>\n",
       "<table border=\"1\" class=\"dataframe\">\n",
       "  <thead>\n",
       "    <tr style=\"text-align: right;\">\n",
       "      <th></th>\n",
       "      <th>sampleID</th>\n",
       "      <th>B_cell</th>\n",
       "      <th>T_cell.CD4</th>\n",
       "      <th>T_cell.CD8</th>\n",
       "      <th>Neutrophil</th>\n",
       "      <th>Macrophage</th>\n",
       "      <th>DC</th>\n",
       "      <th>Cluster</th>\n",
       "    </tr>\n",
       "  </thead>\n",
       "  <tbody>\n",
       "    <tr>\n",
       "      <th>0</th>\n",
       "      <td>TCGA-3Z-A93Z</td>\n",
       "      <td>0.143200</td>\n",
       "      <td>0.068522</td>\n",
       "      <td>0.333568</td>\n",
       "      <td>0.127433</td>\n",
       "      <td>0.000000</td>\n",
       "      <td>0.501207</td>\n",
       "      <td>4</td>\n",
       "    </tr>\n",
       "    <tr>\n",
       "      <th>1</th>\n",
       "      <td>TCGA-6D-AA2E</td>\n",
       "      <td>0.057541</td>\n",
       "      <td>0.083630</td>\n",
       "      <td>0.056915</td>\n",
       "      <td>0.037811</td>\n",
       "      <td>0.000000</td>\n",
       "      <td>0.305558</td>\n",
       "      <td>2</td>\n",
       "    </tr>\n",
       "    <tr>\n",
       "      <th>2</th>\n",
       "      <td>TCGA-A3-3306</td>\n",
       "      <td>0.000000</td>\n",
       "      <td>0.071928</td>\n",
       "      <td>0.192570</td>\n",
       "      <td>0.187347</td>\n",
       "      <td>0.000000</td>\n",
       "      <td>0.408450</td>\n",
       "      <td>4</td>\n",
       "    </tr>\n",
       "    <tr>\n",
       "      <th>3</th>\n",
       "      <td>TCGA-A3-3307</td>\n",
       "      <td>0.005595</td>\n",
       "      <td>0.118138</td>\n",
       "      <td>0.333440</td>\n",
       "      <td>0.229670</td>\n",
       "      <td>0.100614</td>\n",
       "      <td>0.600949</td>\n",
       "      <td>4</td>\n",
       "    </tr>\n",
       "    <tr>\n",
       "      <th>4</th>\n",
       "      <td>TCGA-A3-3308</td>\n",
       "      <td>0.035079</td>\n",
       "      <td>0.151783</td>\n",
       "      <td>0.154870</td>\n",
       "      <td>0.172347</td>\n",
       "      <td>0.000000</td>\n",
       "      <td>0.559563</td>\n",
       "      <td>4</td>\n",
       "    </tr>\n",
       "  </tbody>\n",
       "</table>\n",
       "</div>"
      ],
      "text/plain": [
       "       sampleID    B_cell  T_cell.CD4  T_cell.CD8  Neutrophil  Macrophage  \\\n",
       "0  TCGA-3Z-A93Z  0.143200    0.068522    0.333568    0.127433    0.000000   \n",
       "1  TCGA-6D-AA2E  0.057541    0.083630    0.056915    0.037811    0.000000   \n",
       "2  TCGA-A3-3306  0.000000    0.071928    0.192570    0.187347    0.000000   \n",
       "3  TCGA-A3-3307  0.005595    0.118138    0.333440    0.229670    0.100614   \n",
       "4  TCGA-A3-3308  0.035079    0.151783    0.154870    0.172347    0.000000   \n",
       "\n",
       "         DC  Cluster  \n",
       "0  0.501207        4  \n",
       "1  0.305558        2  \n",
       "2  0.408450        4  \n",
       "3  0.600949        4  \n",
       "4  0.559563        4  "
      ]
     },
     "execution_count": 2,
     "metadata": {},
     "output_type": "execute_result"
    }
   ],
   "source": [
    "file.head()"
   ]
  },
  {
   "cell_type": "code",
   "execution_count": 3,
   "id": "095dda50",
   "metadata": {},
   "outputs": [],
   "source": [
    "file_B=file.drop(['sampleID','T_cell.CD4','T_cell.CD8','Neutrophil','DC'],axis=1)"
   ]
  },
  {
   "cell_type": "code",
   "execution_count": 4,
   "id": "a5c21443",
   "metadata": {},
   "outputs": [
    {
     "data": {
      "text/html": [
       "<div>\n",
       "<style scoped>\n",
       "    .dataframe tbody tr th:only-of-type {\n",
       "        vertical-align: middle;\n",
       "    }\n",
       "\n",
       "    .dataframe tbody tr th {\n",
       "        vertical-align: top;\n",
       "    }\n",
       "\n",
       "    .dataframe thead th {\n",
       "        text-align: right;\n",
       "    }\n",
       "</style>\n",
       "<table border=\"1\" class=\"dataframe\">\n",
       "  <thead>\n",
       "    <tr style=\"text-align: right;\">\n",
       "      <th></th>\n",
       "      <th>B_cell</th>\n",
       "      <th>Macrophage</th>\n",
       "      <th>Cluster</th>\n",
       "    </tr>\n",
       "  </thead>\n",
       "  <tbody>\n",
       "    <tr>\n",
       "      <th>0</th>\n",
       "      <td>0.143200</td>\n",
       "      <td>0.000000</td>\n",
       "      <td>4</td>\n",
       "    </tr>\n",
       "    <tr>\n",
       "      <th>1</th>\n",
       "      <td>0.057541</td>\n",
       "      <td>0.000000</td>\n",
       "      <td>2</td>\n",
       "    </tr>\n",
       "    <tr>\n",
       "      <th>2</th>\n",
       "      <td>0.000000</td>\n",
       "      <td>0.000000</td>\n",
       "      <td>4</td>\n",
       "    </tr>\n",
       "    <tr>\n",
       "      <th>3</th>\n",
       "      <td>0.005595</td>\n",
       "      <td>0.100614</td>\n",
       "      <td>4</td>\n",
       "    </tr>\n",
       "    <tr>\n",
       "      <th>4</th>\n",
       "      <td>0.035079</td>\n",
       "      <td>0.000000</td>\n",
       "      <td>4</td>\n",
       "    </tr>\n",
       "  </tbody>\n",
       "</table>\n",
       "</div>"
      ],
      "text/plain": [
       "     B_cell  Macrophage  Cluster\n",
       "0  0.143200    0.000000        4\n",
       "1  0.057541    0.000000        2\n",
       "2  0.000000    0.000000        4\n",
       "3  0.005595    0.100614        4\n",
       "4  0.035079    0.000000        4"
      ]
     },
     "execution_count": 4,
     "metadata": {},
     "output_type": "execute_result"
    }
   ],
   "source": [
    "file_B.head()"
   ]
  },
  {
   "cell_type": "code",
   "execution_count": 6,
   "id": "a5b29366",
   "metadata": {},
   "outputs": [
    {
     "data": {
      "text/html": [
       "<div>\n",
       "<style scoped>\n",
       "    .dataframe tbody tr th:only-of-type {\n",
       "        vertical-align: middle;\n",
       "    }\n",
       "\n",
       "    .dataframe tbody tr th {\n",
       "        vertical-align: top;\n",
       "    }\n",
       "\n",
       "    .dataframe thead th {\n",
       "        text-align: right;\n",
       "    }\n",
       "</style>\n",
       "<table border=\"1\" class=\"dataframe\">\n",
       "  <thead>\n",
       "    <tr style=\"text-align: right;\">\n",
       "      <th></th>\n",
       "      <th>B_cell</th>\n",
       "      <th>Cluster</th>\n",
       "    </tr>\n",
       "  </thead>\n",
       "  <tbody>\n",
       "    <tr>\n",
       "      <th>0</th>\n",
       "      <td>0.143200</td>\n",
       "      <td>4</td>\n",
       "    </tr>\n",
       "    <tr>\n",
       "      <th>1</th>\n",
       "      <td>0.057541</td>\n",
       "      <td>2</td>\n",
       "    </tr>\n",
       "    <tr>\n",
       "      <th>2</th>\n",
       "      <td>0.000000</td>\n",
       "      <td>4</td>\n",
       "    </tr>\n",
       "    <tr>\n",
       "      <th>3</th>\n",
       "      <td>0.005595</td>\n",
       "      <td>4</td>\n",
       "    </tr>\n",
       "    <tr>\n",
       "      <th>4</th>\n",
       "      <td>0.035079</td>\n",
       "      <td>4</td>\n",
       "    </tr>\n",
       "  </tbody>\n",
       "</table>\n",
       "</div>"
      ],
      "text/plain": [
       "     B_cell  Cluster\n",
       "0  0.143200        4\n",
       "1  0.057541        2\n",
       "2  0.000000        4\n",
       "3  0.005595        4\n",
       "4  0.035079        4"
      ]
     },
     "execution_count": 6,
     "metadata": {},
     "output_type": "execute_result"
    }
   ],
   "source": [
    "file_B.drop('Macrophage',axis=1,inplace=True)\n",
    "file_B.head()"
   ]
  },
  {
   "cell_type": "code",
   "execution_count": 14,
   "id": "96b3a3eb",
   "metadata": {},
   "outputs": [],
   "source": [
    "l1=[]\n",
    "l2=[]\n",
    "l3=[]\n",
    "l4=[]\n",
    "for i in range(532):\n",
    "    if file_B[\"Cluster\"][i]==1:\n",
    "        l1.append(file_B[\"B_cell\"][i])\n",
    "    if file_B[\"Cluster\"][i]==2:\n",
    "        l2.append(file_B[\"B_cell\"][i])\n",
    "    if file_B[\"Cluster\"][i]==3:\n",
    "        l3.append(file_B[\"B_cell\"][i])\n",
    "    if file_B[\"Cluster\"][i]==4:\n",
    "        l4.append(file_B[\"B_cell\"][i])\n"
   ]
  },
  {
   "cell_type": "code",
   "execution_count": 10,
   "id": "dbb7980a",
   "metadata": {},
   "outputs": [
    {
     "data": {
      "text/plain": [
       "pandas.core.frame.DataFrame"
      ]
     },
     "execution_count": 10,
     "metadata": {},
     "output_type": "execute_result"
    }
   ],
   "source": [
    "type(file_B)"
   ]
  },
  {
   "cell_type": "code",
   "execution_count": 13,
   "id": "e73b7a60",
   "metadata": {},
   "outputs": [
    {
     "name": "stdout",
     "output_type": "stream",
     "text": [
      "4\n"
     ]
    }
   ],
   "source": [
    "print(file_B[\"Cluster\"][0])"
   ]
  },
  {
   "cell_type": "code",
   "execution_count": 15,
   "id": "20ebf8f0",
   "metadata": {},
   "outputs": [
    {
     "name": "stdout",
     "output_type": "stream",
     "text": [
      "[0.0, 0.0, 0.0, 0.11557064, 0.0, 0.140649911, 0.117656317, 0.077750927, 0.044226342, 0.048652672, 0.011120853, 0.099565976, 0.041526114, 0.032320349, 0.026531013, 0.012416409, 0.0, 0.089219324, 0.02250808, 0.0, 0.063350681, 0.004971594, 0.014736701, 0.088058415, 0.0, 0.030995979, 0.0, 0.017521371, 0.052634668, 0.0, 0.06415052, 0.0, 0.025100535, 0.0, 0.154098856, 0.021869677, 0.054600455, 0.024207651, 0.099592964, 0.012630219, 0.0, 0.0, 0.04933222, 0.017680485, 0.037073584, 0.0, 0.060356755, 0.046350046, 0.0, 0.064467983, 0.018408888, 0.51113169, 0.029427841, 0.0, 0.01768863, 0.0, 0.018673104, 0.063110597, 0.0, 0.022426861, 0.0, 0.0, 0.0, 0.0, 0.062442099, 0.0, 0.064025284, 0.034881061, 0.123295364, 0.032604817, 0.03766953, 0.0, 0.0, 0.053297152, 0.0, 0.006896198, 0.014087955, 0.0, 0.040758164, 0.050742125, 0.0, 0.036048175, 0.009787768, 0.0, 0.0, 0.014905128, 0.076446742, 0.0, 0.027097327, 0.000598212, 0.114578502, 0.132847337, 0.00158195, 0.02984864, 0.151314889, 0.0, 0.046852673, 0.01113392, 0.096739204, 0.0, 0.0, 0.0, 0.0, 0.157460927, 0.06737186, 0.059016807, 0.062229224, 0.062554769, 0.159373468, 0.0, 0.0, 0.0, 0.084764877, 0.048664102, 0.110311121, 0.091775634, 0.013914761, 0.0, 0.000189167, 0.0, 0.0022371, 0.116589383, 0.170785239, 0.064516079, 0.049720109, 0.039705937, 0.001590822, 0.0, 0.058392847, 0.057943934, 0.035168413, 0.150945748, 0.01337108, 0.045440516, 0.075856367]\n"
     ]
    }
   ],
   "source": [
    "print(l1)"
   ]
  },
  {
   "cell_type": "code",
   "execution_count": 20,
   "id": "bc901225",
   "metadata": {},
   "outputs": [
    {
     "data": {
      "image/png": "[encoded data removed]",
      "text/plain": [
       "<Figure size 432x288 with 1 Axes>"
      ]
     },
     "metadata": {
      "needs_background": "light"
     },
     "output_type": "display_data"
    }
   ],
   "source": [
    "import numpy as np\n",
    "labels = 'A', 'B', 'C', 'D'\n",
    "plt.grid(True)  # 显示网格\n",
    "plt.boxplot([l1, l2, l3, l4],\n",
    "            medianprops={'color': 'red', 'linewidth': '1.5'},\n",
    "            meanline=True,\n",
    "            showmeans=True,\n",
    "            meanprops={'color': 'blue', 'ls': '--', 'linewidth': '1.5'},\n",
    "            flierprops={\"marker\": \"o\", \"markerfacecolor\": \"red\", \"markersize\": 10},\n",
    "            labels=labels,)\n",
    "plt.title('B_cell')\n",
    "#plt.yticks(np.arange(0, 0.5, 0.1))\n",
    "plt.show()"
   ]
  },
  {
   "cell_type": "code",
   "execution_count": null,
   "id": "7e798789",
   "metadata": {},
   "outputs": [],
   "source": []
  }
 ],
 "metadata": {
  "kernelspec": {
   "display_name": "Python 3 (ipykernel)",
   "language": "python",
   "name": "python3"
  },
  "language_info": {
   "codemirror_mode": {
    "name": "ipython",
    "version": 3
   },
   "file_extension": ".py",
   "mimetype": "text/x-python",
   "name": "python",
   "nbconvert_exporter": "python",
   "pygments_lexer": "ipython3",
   "version": "3.9.7"
  }
 },
 "nbformat": 4,
 "nbformat_minor": 5
}
